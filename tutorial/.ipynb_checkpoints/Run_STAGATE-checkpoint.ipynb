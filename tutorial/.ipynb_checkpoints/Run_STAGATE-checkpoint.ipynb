{
 "cells": [
  {
   "cell_type": "markdown",
   "id": "9235d3fd",
   "metadata": {},
   "source": [
    "# Mouse mPFC data by STARmap"
   ]
  },
  {
   "cell_type": "code",
   "execution_count": null,
   "id": "2223f35b",
   "metadata": {},
   "outputs": [],
   "source": [
    "import pandas as pd\n",
    "import numpy as np\n",
    "import scanpy as sc\n",
    "import anndata as ad\n",
    "from scipy.io import mmread\n",
    "import os\n",
    "import sys\n",
    "import tensorflow as tf\n",
    "import matplotlib.pyplot as plt\n",
    "from sklearn.metrics.cluster import adjusted_rand_score\n",
    "import seaborn as sns\n",
    "import gc\n",
    "import warnings\n",
    "warnings.filterwarnings(\"ignore\")\n",
    "import random\n",
    "import time\n",
    "import STAGATE\n",
    "\n",
    "import os\n",
    "os.environ[\"R_HOME\"] = r\"D:\\\\download\\\\R\\\\R-4.1.3\" \n",
    "os.environ[\"PATH\"] = r\"D:\\\\download\\\\R\\\\R-4.1.3\\\\bin\\\\x64\" + \";\" + os.environ[\"R_HOME\"] "
   ]
  },
  {
   "cell_type": "code",
   "execution_count": null,
   "id": "6153aa9c",
   "metadata": {},
   "outputs": [],
   "source": [
    "ids_list = ['20180417_BZ5_control','20180419_BZ9_control','20180424_BZ14_control']\n",
    "\n",
    "for cluster_number in np.arange(10,21,1): \n",
    "    print(cluster_number)\n",
    "    with open(f\"../result/STAGATE/result_STAGATE_k={cluster_number}.txt\", \"w\") as f:\n",
    "        f.write(\"sample\\tseed\\tari_value\\n\")\n",
    "        for ids in ids_list:\n",
    "            counts = pd.read_csv(f'../data/count_{ids}.csv',index_col=0)\n",
    "            xy = pd.read_csv(f'../data/xy_{ids}.csv',index_col=0)\n",
    "            gt = pd.read_csv(f'../data/gt_c_{ids}.csv',index_col=0)\n",
    "            ground_truth = [str(gt.iloc[i,:][0]) for i in range(len(gt))]\n",
    "\n",
    "            adata=ad.AnnData(counts.T,dtype='float64')\n",
    "            adata.obs['array_row'] = xy['x']\n",
    "            adata.obs['array_col'] = xy['y']\n",
    "            adata.obs['ground_truth'] = np.array(gt)\n",
    "            adata.var['gene_ids'] = counts.index\n",
    "            adata.obsm['spatial'] = np.array(xy)\n",
    "\n",
    "            sc.pp.highly_variable_genes(adata, flavor=\"seurat_v3\", n_top_genes=3000)\n",
    "            sc.pp.normalize_total(adata, target_sum=1e4)\n",
    "            sc.pp.log1p(adata)\n",
    "\n",
    "            # Constructing the spatial network\n",
    "            STAGATE.Cal_Spatial_Net(adata,rad_cutoff=400)\n",
    "            STAGATE.Stats_Spatial_Net(adata)\n",
    "\n",
    "            df_result = pd.DataFrame()\n",
    "            for seed in range(10):\n",
    "                print('seed =',seed)\n",
    "                # Running STAGATE\n",
    "                tf.compat.v1.disable_eager_execution()\n",
    "                adata_new = STAGATE.train_STAGATE(adata,alpha=0,random_seed=seed)\n",
    "\n",
    "                # Run UMAP\n",
    "                sc.pp.neighbors(adata_new,use_rep='STAGATE',random_state=seed)\n",
    "                sc.tl.umap(adata_new)\n",
    "\n",
    "                adata_new = STAGATE.mclust_R(adata_new,used_obsm='STAGATE',num_cluster=cluster_number,random_seed=seed)\n",
    "\n",
    "                plt.rcParams['figure.figsize'] = (3,3)\n",
    "                sc.pl.embedding(adata_new,basis='spatial',color='mclust',s=60,show=True,save=f'_STAGATE_{seed}.png')\n",
    "\n",
    "                df_result[str(ids)+'_'+str(seed)] = adata_new.obs['mclust']\n",
    "\n",
    "                ari_value = adjusted_rand_score(ground_truth,adata_new.obs['mclust'])\n",
    "                f.write(f\"{str(ids)}\\t{str(seed)}\\t{str(ari_value)}\\n\")\n",
    "                print(f'seed = {seed},ari = {ari_value}')\n",
    "\n",
    "            df_result.to_csv(f'../result/STAGATE/{ids}_k={cluster_number}.csv')"
   ]
  },
  {
   "cell_type": "code",
   "execution_count": null,
   "id": "7ee7c39c",
   "metadata": {},
   "outputs": [],
   "source": []
  },
  {
   "cell_type": "code",
   "execution_count": null,
   "id": "f6bb4f9e",
   "metadata": {},
   "outputs": [],
   "source": []
  },
  {
   "cell_type": "code",
   "execution_count": null,
   "id": "e4e396a9",
   "metadata": {},
   "outputs": [],
   "source": []
  }
 ],
 "metadata": {
  "kernelspec": {
   "display_name": "Python [conda env:stagate]",
   "language": "python",
   "name": "stagate"
  },
  "language_info": {
   "codemirror_mode": {
    "name": "ipython",
    "version": 3
   },
   "file_extension": ".py",
   "mimetype": "text/x-python",
   "name": "python",
   "nbconvert_exporter": "python",
   "pygments_lexer": "ipython3",
   "version": "3.8.16"
  },
  "toc": {
   "base_numbering": 1,
   "nav_menu": {},
   "number_sections": true,
   "sideBar": true,
   "skip_h1_title": false,
   "title_cell": "Table of Contents",
   "title_sidebar": "Contents",
   "toc_cell": false,
   "toc_position": {},
   "toc_section_display": true,
   "toc_window_display": false
  }
 },
 "nbformat": 4,
 "nbformat_minor": 5
}
