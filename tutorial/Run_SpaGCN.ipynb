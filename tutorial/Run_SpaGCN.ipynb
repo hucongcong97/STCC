{
 "cells": [
  {
   "cell_type": "markdown",
   "id": "1c3c3cf3",
   "metadata": {},
   "source": [
    "**This tutorial is for analyzing mouse mPFC data using SpaGCN**"
   ]
  },
  {
   "cell_type": "markdown",
   "id": "a2c8d89e",
   "metadata": {},
   "source": [
    "# Mouse mPFC data by STARmap"
   ]
  },
  {
   "cell_type": "code",
   "execution_count": null,
   "id": "21f589a0",
   "metadata": {},
   "outputs": [],
   "source": [
    "import rpy2.robjects as ro\n",
    "from rpy2.robjects import pandas2ri\n",
    "from rpy2.robjects.conversion import localconverter\n",
    "from sklearn.metrics import adjusted_rand_score\n",
    "from scipy.sparse import csc_matrix\n",
    "import scanpy as sc\n",
    "import numpy as np\n",
    "import pandas as pd\n",
    "import SpaGCN as spg\n",
    "import anndata\n",
    "import torch\n",
    "import random\n",
    "import warnings\n",
    "warnings.filterwarnings(\"ignore\")\n",
    "random.seed(2025)"
   ]
  },
  {
   "cell_type": "code",
   "execution_count": null,
   "id": "0e2601f5",
   "metadata": {},
   "outputs": [],
   "source": [
    "# RData file path\n",
    "data = '../data/mPFC/starmap_mpfc.RData'\n",
    "\n",
    "# Loading RData Files\n",
    "ro.r['load'](data)\n",
    "\n",
    "# Get the starmap_cnts and starmap_info lists\n",
    "cnts = ro.r['starmap_cnts']\n",
    "info = ro.r['starmap_info']\n",
    "\n",
    "# Get the name of the list\n",
    "names = list(ro.r['names'](cnts))\n",
    "\n",
    "for cluster_number in np.arange(10,21,1): \n",
    "    print(cluster_number)\n",
    "    \n",
    "    with open(f\"../result/SpaGCN/result_SpaGCN_k={cluster_number}.txt\", \"w\") as f:\n",
    "        f.write(\"sample\\tseed\\tari_value\\n\")\n",
    "        \n",
    "        # Use localconverter to convert and process the corresponding data frame\n",
    "        for cnts_df, info_df, name in zip(cnts, info, names):\n",
    "            with localconverter(ro.default_converter + pandas2ri.converter):\n",
    "                cnts_df = ro.conversion.rpy2py(cnts_df)\n",
    "                info_df = ro.conversion.rpy2py(info_df)\n",
    "\n",
    "                # Create adata object\n",
    "                adata=anndata.AnnData(cnts_df.T,dtype='float64')\n",
    "                adata.obs['array_row'] = np.array(info_df.loc[:,['x']])\n",
    "                adata.obs['array_col'] = np.array(info_df.loc[:,['y']])\n",
    "                adata.obs['ground_truth'] = np.array(info_df.loc[:,['c']])\n",
    "\n",
    "                x_array = adata.obs['array_row']\n",
    "                y_array = adata.obs['array_col']\n",
    "                adata.var_names_make_unique()\n",
    "                spg.prefilter_genes(adata,min_cells=10) # avoiding all genes are zeros\n",
    "                spg.prefilter_specialgenes(adata)\n",
    "                sc.pp.normalize_per_cell(adata)\n",
    "                sc.pp.log1p(adata)\n",
    "\n",
    "                s=1\n",
    "                b=49\n",
    "                adj=spg.calculate_adj_matrix(x=x_array,y=y_array, histology=False)\n",
    "\n",
    "                df = pd.DataFrame()\n",
    "                for seed in range(10):\n",
    "                    print(\"seed =\",seed)\n",
    "                    l=spg.search_l(0.5, adj, start=0.01, end=1000, tol=0.01, max_run=100)\n",
    "                    res=spg.search_res(adata, adj, l, cluster_number, start=0.7, step=0.1, tol=5e-3, lr=0.05, max_epochs=20, r_seed=seed, t_seed=seed, n_seed=seed)\n",
    "\n",
    "                    clf=spg.SpaGCN()\n",
    "                    clf.set_l(l)\n",
    "                    # Set seed\n",
    "                    random.seed(seed)\n",
    "                    torch.manual_seed(seed)\n",
    "                    np.random.seed(seed)\n",
    "                    # Run SpaGCN\n",
    "                    clf.train(adata,adj,init_spa=True,init=\"louvain\",res=res, tol=5e-3, lr=0.05, max_epochs=200)\n",
    "                    labels, _=clf.predict()\n",
    "\n",
    "                    # Record cluster labels\n",
    "                    df[str(name)+'_'+str(seed)] = labels\n",
    "\n",
    "                    # Calculating ARI\n",
    "                    ari_value = adjusted_rand_score(adata.obs['ground_truth'],labels)\n",
    "                    print('ari_value =',ari_value)\n",
    "                    f.write(f\"{str(name)}\\t{str(seed)}\\t{str(ari_value)}\\n\")\n",
    "                    \n",
    "                # Save the results\n",
    "                df.to_csv(f'../result/SpaGCN/{name}_k={cluster_number}.csv')"
   ]
  },
  {
   "cell_type": "code",
   "execution_count": null,
   "id": "02bef9a1",
   "metadata": {},
   "outputs": [],
   "source": []
  }
 ],
 "metadata": {
  "kernelspec": {
   "display_name": "Python [conda env:spagcn]",
   "language": "python",
   "name": "spagcn"
  },
  "language_info": {
   "codemirror_mode": {
    "name": "ipython",
    "version": 3
   },
   "file_extension": ".py",
   "mimetype": "text/x-python",
   "name": "python",
   "nbconvert_exporter": "python",
   "pygments_lexer": "ipython3",
   "version": "3.7.9"
  },
  "toc": {
   "base_numbering": 1,
   "nav_menu": {},
   "number_sections": true,
   "sideBar": true,
   "skip_h1_title": false,
   "title_cell": "Table of Contents",
   "title_sidebar": "Contents",
   "toc_cell": false,
   "toc_position": {},
   "toc_section_display": true,
   "toc_window_display": false
  }
 },
 "nbformat": 4,
 "nbformat_minor": 5
}
