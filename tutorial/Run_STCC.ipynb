{
 "cells": [
  {
   "cell_type": "code",
   "execution_count": null,
   "id": "8f4c379d",
   "metadata": {},
   "outputs": [],
   "source": [
    "import numpy as np\n",
    "import pandas as pd\n",
    "import time\n",
    "import random\n",
    "import os"
   ]
  },
  {
   "cell_type": "markdown",
   "id": "e202ea9c",
   "metadata": {},
   "source": [
    "# Mouse mPFC data by STARmap\n",
    "## single  method"
   ]
  },
  {
   "cell_type": "code",
   "execution_count": null,
   "id": "a7c584c7",
   "metadata": {},
   "outputs": [],
   "source": [
    "os.chdir('STCC\\\\result\\\\single method\\\\')\n",
    "methods = ['BASS','BayesSpace','SpatialPCA','SEDR','SpaGCN','STAGATE']\n",
    "rep_list = ['20180417_BZ5_control','20180419_BZ9_control','20180424_BZ14_control']\n",
    "k_list = np.arange(10,21,1)\n",
    "consensus_list = ['Average-based','Onehot-based','wNMF-based']\n",
    "\n",
    "for method in methods:\n",
    "    print(method)\n",
    "    for rep in rep_list:\n",
    "        print(rep)\n",
    "        gt = pd.read_csv(f'../../data/gt_c_{rep}.csv',index_col=0)\n",
    "        ground_truth = [i for i in gt['x']]\n",
    "        \n",
    "        df_result = pd.DataFrame()\n",
    "        with open(f\"consensus_{method}_{rep}_ari.txt\", \"w\") as f:\n",
    "            f.write(\"method\\tn_cluster\\tseed\\tari_value\\n\")\n",
    "            for k in k_list:\n",
    "                if method == 'SEDR':\n",
    "                    df = pd.read_csv(f'../../result/{method}/{rep}_k={k}.csv',sep='\\t')\n",
    "                else:\n",
    "                    df = pd.read_csv(f'../../result/{method}/{rep}_k={k}.csv',index_col=0)\n",
    "                for consensus in consensus_list:\n",
    "                    for seed in range(10): \n",
    "                        if consensus == 'wNMF-based':\n",
    "                            labels_consensus, contributions = consensus_STCC(df,k,methods=consensus,seed=seed)\n",
    "                            print(f'weight of {method} is:{contributions}')\n",
    "                        else:\n",
    "                            labels_consensus = consensus_STCC(df,k,methods=consensus,seed=seed)\n",
    "                        df_result['k='+str(k)+ '_'+consensus+ '_' +str(seed)] = labels_consensus\n",
    "\n",
    "                        ari_value = adjusted_rand_score(ground_truth,labels_consensus)\n",
    "                        f.write(f\"{consensus}\\t{str(k)}\\t{str(seed)}\\t{str(ari_value)}\\n\")\n",
    "                        print(f'consensus = {consensus},n_cluster = {k},seed = {seed},ari = {ari_value}')\n",
    "        df_result.to_csv(f'consensus_{method}_{rep}_labels.csv')"
   ]
  },
  {
   "cell_type": "markdown",
   "id": "b770ab84",
   "metadata": {},
   "source": [
    "## all methods"
   ]
  },
  {
   "cell_type": "code",
   "execution_count": null,
   "id": "54454d34",
   "metadata": {},
   "outputs": [],
   "source": [
    "# merge data\n",
    "os.chdir('STCC\\\\result\\\\all methods\\\\')\n",
    "methods = ['BASS','BayesSpace','SpatialPCA','SEDR','SpaGCN','STAGATE']\n",
    "rep_list = ['20180417_BZ5_control','20180419_BZ9_control','20180424_BZ14_control']\n",
    "k_list = np.arange(10,21,1)\n",
    "\n",
    "for rep in rep_list:\n",
    "    print(rep)\n",
    "    for k in k_list:\n",
    "        dff = pd.DataFrame()\n",
    "        for method in methods:\n",
    "            if method == 'SEDR':\n",
    "                df = pd.read_csv(f'../../result/{method}/{rep}_k={k}.csv',sep='\\t')\n",
    "            else:\n",
    "                df = pd.read_csv(f'../../result/{method}/{rep}_k={k}.csv',index_col=0)\n",
    "            collen = df.shape[1]\n",
    "            for i in range(collen):\n",
    "                dff[method+'_'+str(i)] = df.iloc[:,i].tolist()\n",
    "        dff.to_csv(f'all_methods_{rep}_k={k}.csv')"
   ]
  },
  {
   "cell_type": "code",
   "execution_count": null,
   "id": "9bcfbee1",
   "metadata": {},
   "outputs": [],
   "source": [
    "os.chdir('STCC\\\\result\\\\all methods\\\\')\n",
    "rep_list = ['20180417_BZ5_control','20180419_BZ9_control','20180424_BZ14_control']\n",
    "k_list = np.arange(10,21,1)\n",
    "consensus_list = ['Average-based','Onehot-based','wNMF-based']\n",
    "\n",
    "for rep in rep_list:\n",
    "    print(rep)\n",
    "    gt = pd.read_csv(f'../../data/gt_c_{rep}.csv',index_col=0)\n",
    "    ground_truth = [i for i in gt['x']]\n",
    "\n",
    "    df_result = pd.DataFrame()\n",
    "    with open(f\"consensus_{rep}_ari.txt\", \"w\") as f:\n",
    "        f.write(\"method\\tn_cluster\\tseed\\tari_value\\n\")\n",
    "        for k in k_list:\n",
    "            df = pd.read_csv(f'all_methods_{rep}_k={k}.csv',index_col=0)\n",
    "            for consensus in consensus_list:\n",
    "                for seed in range(10): \n",
    "                    if consensus == 'wNMF-based':\n",
    "                        labels_consensus, contributions = consensus_STCC(df,k,methods=consensus,seed=seed)\n",
    "                        print(f'weight of {consensus} is:{contributions}')\n",
    "                    else:\n",
    "                        labels_consensus = consensus_STCC(df,k,methods=consensus,seed=seed)\n",
    "                    df_result['k='+str(k)+ '_'+consensus+ '_' +str(seed)] = labels_consensus\n",
    "\n",
    "                    ari_value = adjusted_rand_score(ground_truth,labels_consensus)\n",
    "                    f.write(f\"{consensus}\\t{str(k)}\\t{str(seed)}\\t{str(ari_value)}\\n\")\n",
    "                    print(f'consensus = {consensus},n_cluster = {k},seed = {seed},ari = {ari_value}')\n",
    "    df_result.to_csv(f'consensus_{rep}_labels.csv')"
   ]
  }
 ],
 "metadata": {
  "kernelspec": {
   "display_name": "Python [conda env:shmrf]",
   "language": "python",
   "name": "shmrf"
  },
  "language_info": {
   "codemirror_mode": {
    "name": "ipython",
    "version": 3
   },
   "file_extension": ".py",
   "mimetype": "text/x-python",
   "name": "python",
   "nbconvert_exporter": "python",
   "pygments_lexer": "ipython3",
   "version": "3.8.16"
  },
  "toc": {
   "base_numbering": 1,
   "nav_menu": {},
   "number_sections": true,
   "sideBar": true,
   "skip_h1_title": false,
   "title_cell": "Table of Contents",
   "title_sidebar": "Contents",
   "toc_cell": false,
   "toc_position": {},
   "toc_section_display": true,
   "toc_window_display": false
  }
 },
 "nbformat": 4,
 "nbformat_minor": 5
}
